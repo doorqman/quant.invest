{
  "nbformat": 4,
  "nbformat_minor": 0,
  "metadata": {
    "colab": {
      "name": "創新高基本面策略.ipynb",
      "provenance": [],
      "collapsed_sections": [],
      "include_colab_link": true
    },
    "kernelspec": {
      "name": "python3",
      "display_name": "Python 3"
    }
  },
  "cells": [
    {
      "cell_type": "markdown",
      "metadata": {
        "id": "view-in-github",
        "colab_type": "text"
      },
      "source": [
        "<a href=\"https://colab.research.google.com/github/doorqman/quant.invest/blob/master/%E5%89%B5%E6%96%B0%E9%AB%98%E5%9F%BA%E6%9C%AC%E9%9D%A2%E7%AD%96%E7%95%A5.ipynb\" target=\"_parent\"><img src=\"https://colab.research.google.com/assets/colab-badge.svg\" alt=\"Open In Colab\"/></a>"
      ]
    },
    {
      "cell_type": "code",
      "metadata": {
        "id": "HBU0qiRZT9xt",
        "colab_type": "code",
        "colab": {}
      },
      "source": [
        "from finlab.data import Data\n",
        "\n",
        "data = Data()\n",
        "\n",
        "\n",
        "#############\n",
        "# 股價淨值比  #\n",
        "#############\n",
        "price = data.get('收盤價', 300)\n",
        "股東權益 = data.get('歸屬於母公司業主之權益合計', 1)\n",
        "股本 = data.get('普通股股本', 1)\n",
        "\n",
        "\n",
        "流通股數 = 股本 / 10\n",
        "每股淨值 = 股東權益 / 流通股數\n",
        "今日股價 = price.iloc[-1]\n",
        "\n",
        "股價淨值比pb = (今日股價 / 每股淨值).squeeze()\n",
        "\n",
        "#####################\n",
        "# 股東權益報酬率 ROE  #\n",
        "#####################\n",
        "\n",
        "稅後淨利 = data.get('本期淨利（淨損）', 2)\n",
        "\n",
        "# 股東權益，有兩個名稱，有些公司叫做權益總計，有些叫做權益總額\n",
        "# 所以得把它們抓出來\n",
        "權益總計 = data.get('權益總計', 2)\n",
        "權益總額 = data.get('權益總額', 2)\n",
        "\n",
        "# 並且把它們合併起來\n",
        "權益總計.fillna(權益總額, inplace=True)\n",
        "\n",
        "股東權益報酬率 = 稅後淨利.iloc[-1] / 權益總計.iloc[-1]\n",
        "股東權益報酬率_上季 = 稅後淨利.iloc[-2] / 權益總計.iloc[-2]\n",
        "\n",
        "\n",
        "#####################\n",
        "# 成交量  #\n",
        "#####################\n",
        "vol = data.get('成交股數', 100)\n",
        "\n",
        "\n",
        "############\n",
        "# 篩選股票  #\n",
        "############\n",
        "\n",
        "condition1 = (price.rolling(60).max() == price).iloc[-10:].sum() > 0\n",
        "condition2 = (股東權益報酬率 > 0.03) & (股東權益報酬率_上季 > 0.01)\n",
        "condition3 = (price.iloc[-1] > 7) & (vol.iloc[-1] > 100000)\n",
        "rank = 股東權益報酬率 / 股東權益報酬率_上季 / 股價淨值比pb * (condition1 & condition2 & condition3)\n",
        "\n",
        "print('近10天創新高的股票數量')\n",
        "print(condition1.sum())\n",
        "\n",
        "print('rank 前10名的股票')\n",
        "print(rank[rank > 0].nlargest(10))"
      ],
      "execution_count": null,
      "outputs": []
    },
    {
      "cell_type": "markdown",
      "metadata": {
        "id": "2tC4_eBJUN0r",
        "colab_type": "text"
      },
      "source": [
        "\n",
        "### 交易方法\n",
        "\n",
        "* **入場：假如上述清單有股票，則加入portfolio**\n",
        "\n",
        "* **出場：跌破20日線或60日線，隔天出場**\n",
        "\n",
        "\n",
        "### 再平衡方法\n",
        "\n",
        "文章中的回測是每10天換一次股票，"
      ]
    },
    {
      "cell_type": "code",
      "metadata": {
        "id": "rYSnYewwVa3H",
        "colab_type": "code",
        "colab": {}
      },
      "source": [
        ""
      ],
      "execution_count": null,
      "outputs": []
    }
  ]
}